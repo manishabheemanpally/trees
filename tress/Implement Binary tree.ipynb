{
  "metadata": {
    "kernelspec": {
      "name": "python",
      "display_name": "Python (Pyodide)",
      "language": "python"
    },
    "language_info": {
      "codemirror_mode": {
        "name": "python",
        "version": 3
      },
      "file_extension": ".py",
      "mimetype": "text/x-python",
      "name": "python",
      "nbconvert_exporter": "python",
      "pygments_lexer": "ipython3",
      "version": "3.8"
    }
  },
  "nbformat_minor": 4,
  "nbformat": 4,
  "cells": [
    {
      "cell_type": "code",
      "source": "class Node:\n    def __init__(self, value):\n        self.value = value\n        self.left = None\n        self.right = None\n\n\nclass BinaryTree:\n    def __init__(self):\n        self.root = None\n\n    def insert(self, value):\n        if self.root is None:\n            self.root = Node(value)\n        else:\n            self._insert_recursive(self.root, value)\n\n    def _insert_recursive(self, node, value):\n        if value < node.value:\n            if node.left is None:\n                node.left = Node(value)\n            else:\n                self._insert_recursive(node.left, value)\n        else:\n            if node.right is None:\n                node.right = Node(value)\n            else:\n                self._insert_recursive(node.right, value)\n\n    def search(self, value):\n        return self._search_recursive(self.root, value)\n\n    def _search_recursive(self, node, value):\n        if node is None or node.value == value:\n            return node\n        if value < node.value:\n            return self._search_recursive(node.left, value)\n        return self._search_recursive(node.right, value)\n\n    def inorder_traversal(self):\n        result = []\n        self._inorder_recursive(self.root, result)\n        return result\n\n    def _inorder_recursive(self, node, result):\n        if node:\n            self._inorder_recursive(node.left, result)\n            result.append(node.value)\n            self._inorder_recursive(node.right, result)\n\n    def preorder_traversal(self):\n        result = []\n        self._preorder_recursive(self.root, result)\n        return result\n\n    def _preorder_recursive(self, node, result):\n        if node:\n            result.append(node.value)\n            self._preorder_recursive(node.left, result)\n            self._preorder_recursive(node.right, result)\n\n    def postorder_traversal(self):\n        result = []\n        self._postorder_recursive(self.root, result)\n        return result\n\n    def _postorder_recursive(self, node, result):\n        if node:\n            self._postorder_recursive(node.left, result)\n            self._postorder_recursive(node.right, result)\n            result.append(node.value)\n\ntree = BinaryTree()\n\ntree.insert(5)\ntree.insert(3)\ntree.insert(7)\ntree.insert(2)\ntree.insert(4)\ntree.insert(6)\ntree.insert(8)\n\nprint(\"Inorder Traversal:\", tree.inorder_traversal())\nprint(\"Preorder Traversal:\", tree.preorder_traversal())\nprint(\"Postorder Traversal:\", tree.postorder_traversal())\n\nsearch_value = 4\nresult = tree.search(search_value)\nif result:\n    print(f\"Found {search_value} in the tree.\")\nelse:\n    print(f\"{search_value} not found in the tree.\")",
      "metadata": {
        "trusted": true
      },
      "outputs": [
        {
          "name": "stdout",
          "text": "Inorder Traversal: [2, 3, 4, 5, 6, 7, 8]\nPreorder Traversal: [5, 3, 2, 4, 7, 6, 8]\nPostorder Traversal: [2, 4, 3, 6, 8, 7, 5]\nFound 4 in the tree.\n",
          "output_type": "stream"
        }
      ],
      "execution_count": 1
    },
    {
      "cell_type": "code",
      "source": "",
      "metadata": {
        "trusted": true
      },
      "outputs": [],
      "execution_count": null
    }
  ]
}