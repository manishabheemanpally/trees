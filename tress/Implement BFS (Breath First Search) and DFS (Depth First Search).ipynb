{
  "metadata": {
    "kernelspec": {
      "name": "python",
      "display_name": "Python (Pyodide)",
      "language": "python"
    },
    "language_info": {
      "codemirror_mode": {
        "name": "python",
        "version": 3
      },
      "file_extension": ".py",
      "mimetype": "text/x-python",
      "name": "python",
      "nbconvert_exporter": "python",
      "pygments_lexer": "ipython3",
      "version": "3.8"
    }
  },
  "nbformat_minor": 4,
  "nbformat": 4,
  "cells": [
    {
      "cell_type": "code",
      "source": "from collections import deque\n\n\nclass Node:\n    def __init__(self, value):\n        self.value = value\n        self.left = None\n        self.right = None\n\n\nclass BinaryTree:\n    def __init__(self):\n        self.root = None\n\n    def insert(self, value):\n        if self.root is None:\n            self.root = Node(value)\n        else:\n            self._insert_recursive(self.root, value)\n\n    def _insert_recursive(self, node, value):\n        if value < node.value:\n            if node.left is None:\n                node.left = Node(value)\n            else:\n                self._insert_recursive(node.left, value)\n        else:\n            if node.right is None:\n                node.right = Node(value)\n            else:\n                self._insert_recursive(node.right, value)\n\n    def breadth_first_search(self):\n        result = []\n        if self.root is None:\n            return result\n\n        queue = deque()\n        queue.append(self.root)\n\n        while queue:\n            node = queue.popleft()\n            result.append(node.value)\n\n            if node.left:\n                queue.append(node.left)\n            if node.right:\n                queue.append(node.right)\n\n        return result\n\n    def depth_first_search(self):\n        result = []\n        self._depth_first_search_recursive(self.root, result)\n        return result\n\n    def _depth_first_search_recursive(self, node, result):\n        if node is None:\n            return\n\n        result.append(node.value)\n\n        self._depth_first_search_recursive(node.left, result)\n        self._depth_first_search_recursive(node.right, result)\n\n\ntree = BinaryTree()\n\ntree.insert(5)\ntree.insert(3)\ntree.insert(7)\ntree.insert(2)\ntree.insert(4)\ntree.insert(6)\ntree.insert(8)\n\nbfs_result = tree.breadth_first_search()\nprint(\"BFS Result:\", bfs_result)\n\ndfs_result = tree.depth_first_search()\nprint(\"DFS Result:\", dfs_result)",
      "metadata": {
        "trusted": true
      },
      "outputs": [
        {
          "name": "stdout",
          "text": "BFS Result: [5, 3, 7, 2, 4, 6, 8]\nDFS Result: [5, 3, 2, 4, 7, 6, 8]\n",
          "output_type": "stream"
        }
      ],
      "execution_count": 1
    },
    {
      "cell_type": "code",
      "source": "",
      "metadata": {
        "trusted": true
      },
      "outputs": [],
      "execution_count": null
    }
  ]
}