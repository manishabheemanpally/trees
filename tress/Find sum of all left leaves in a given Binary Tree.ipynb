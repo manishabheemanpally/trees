{
  "metadata": {
    "kernelspec": {
      "name": "python",
      "display_name": "Python (Pyodide)",
      "language": "python"
    },
    "language_info": {
      "codemirror_mode": {
        "name": "python",
        "version": 3
      },
      "file_extension": ".py",
      "mimetype": "text/x-python",
      "name": "python",
      "nbconvert_exporter": "python",
      "pygments_lexer": "ipython3",
      "version": "3.8"
    }
  },
  "nbformat_minor": 4,
  "nbformat": 4,
  "cells": [
    {
      "cell_type": "code",
      "source": "class Node:\n    def __init__(self, value):\n        self.value = value\n        self.left = None\n        self.right = None\n\n\nclass BinaryTree:\n    def __init__(self):\n        self.root = None\n\n    def insert(self, value):\n        if self.root is None:\n            self.root = Node(value)\n        else:\n            self._insert_recursive(self.root, value)\n\n    def _insert_recursive(self, node, value):\n        if value < node.value:\n            if node.left is None:\n                node.left = Node(value)\n            else:\n                self._insert_recursive(node.left, value)\n        else:\n            if node.right is None:\n                node.right = Node(value)\n            else:\n                self._insert_recursive(node.right, value)\n\n    def sum_left_leaves(self):\n        return self._sum_left_leaves_recursive(self.root, False)\n\n    def _sum_left_leaves_recursive(self, node, is_left):\n        if node is None:\n            return 0\n\n        if node.left is None and node.right is None and is_left:\n            return node.value\n\n        left_sum = self._sum_left_leaves_recursive(node.left, True)\n        right_sum = self._sum_left_leaves_recursive(node.right, False)\n\n        return left_sum + right_sum\n\ntree = BinaryTree()\n\ntree.insert(5)\ntree.insert(3)\ntree.insert(7)\ntree.insert(2)\ntree.insert(4)\ntree.insert(6)\ntree.insert(8)\n\nleft_leaves_sum = tree.sum_left_leaves()\nprint(\"Sum of Left Leaves:\", left_leaves_sum)",
      "metadata": {
        "trusted": true
      },
      "outputs": [
        {
          "name": "stdout",
          "text": "Sum of Left Leaves: 8\n",
          "output_type": "stream"
        }
      ],
      "execution_count": 1
    },
    {
      "cell_type": "code",
      "source": "",
      "metadata": {
        "trusted": true
      },
      "outputs": [],
      "execution_count": null
    }
  ]
}