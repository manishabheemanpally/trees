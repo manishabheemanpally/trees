{
  "metadata": {
    "kernelspec": {
      "name": "python",
      "display_name": "Python (Pyodide)",
      "language": "python"
    },
    "language_info": {
      "codemirror_mode": {
        "name": "python",
        "version": 3
      },
      "file_extension": ".py",
      "mimetype": "text/x-python",
      "name": "python",
      "nbconvert_exporter": "python",
      "pygments_lexer": "ipython3",
      "version": "3.8"
    }
  },
  "nbformat_minor": 4,
  "nbformat": 4,
  "cells": [
    {
      "cell_type": "code",
      "source": "class Node:\n    def __init__(self, value):\n        self.value = value\n        self.left = None\n        self.right = None\n\n\nclass BinaryTree:\n    def __init__(self):\n        self.root = None\n\n    def build_perfect_tree(self, height):\n        self.root = self._build_perfect_tree_recursive(height, 1)\n\n    def _build_perfect_tree_recursive(self, height, value):\n        if height == 0:\n            return None\n\n        node = Node(value)\n        node.left = self._build_perfect_tree_recursive(height - 1, 2 * value)\n        node.right = self._build_perfect_tree_recursive(height - 1, 2 * value + 1)\n        return node\n\n    def sum_all_nodes(self):\n        return self._sum_all_nodes_recursive(self.root)\n\n    def _sum_all_nodes_recursive(self, node):\n        if node is None:\n            return 0\n\n        return node.value + self._sum_all_nodes_recursive(node.left) + self._sum_all_nodes_recursive(node.right)\n    \ntree = BinaryTree()\n\ntree.build_perfect_tree(3)\n\ntotal_sum = tree.sum_all_nodes()\nprint(\"Sum of all nodes:\", total_sum)",
      "metadata": {
        "trusted": true
      },
      "outputs": [
        {
          "name": "stdout",
          "text": "Sum of all nodes: 28\n",
          "output_type": "stream"
        }
      ],
      "execution_count": 1
    },
    {
      "cell_type": "code",
      "source": "",
      "metadata": {
        "trusted": true
      },
      "outputs": [],
      "execution_count": null
    }
  ]
}