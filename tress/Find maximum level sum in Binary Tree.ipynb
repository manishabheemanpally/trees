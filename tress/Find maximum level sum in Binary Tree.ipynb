{
  "metadata": {
    "kernelspec": {
      "name": "python",
      "display_name": "Python (Pyodide)",
      "language": "python"
    },
    "language_info": {
      "codemirror_mode": {
        "name": "python",
        "version": 3
      },
      "file_extension": ".py",
      "mimetype": "text/x-python",
      "name": "python",
      "nbconvert_exporter": "python",
      "pygments_lexer": "ipython3",
      "version": "3.8"
    }
  },
  "nbformat_minor": 4,
  "nbformat": 4,
  "cells": [
    {
      "cell_type": "code",
      "source": "from collections import deque\n\nclass Node:\n    def __init__(self, value):\n        self.value = value\n        self.left = None\n        self.right = None\n\n\nclass BinaryTree:\n    def __init__(self):\n        self.root = None\n\n    def insert(self, value):\n        if self.root is None:\n            self.root = Node(value)\n        else:\n            self._insert_recursive(self.root, value)\n\n    def _insert_recursive(self, node, value):\n        if value < node.value:\n            if node.left is None:\n                node.left = Node(value)\n            else:\n                self._insert_recursive(node.left, value)\n        else:\n            if node.right is None:\n                node.right = Node(value)\n            else:\n                self._insert_recursive(node.right, value)\n\n    def max_level_sum(self):\n        if self.root is None:\n            return 0\n\n        max_sum = float('-inf')\n        queue = deque()\n        queue.append(self.root)\n\n        while queue:\n            level_sum = 0\n            level_size = len(queue)\n\n            for _ in range(level_size):\n                node = queue.popleft()\n                level_sum += node.value\n\n                if node.left:\n                    queue.append(node.left)\n                if node.right:\n                    queue.append(node.right)\n\n            max_sum = max(max_sum, level_sum)\n\n        return max_sum\n\n    \ntree = BinaryTree()\n\ntree.insert(1)\ntree.insert(2)\ntree.insert(3)\ntree.insert(4)\ntree.insert(5)\ntree.insert(6)\ntree.insert(7)\n\nmax_sum = tree.max_level_sum()\nprint(\"Maximum Level Sum:\", max_sum)",
      "metadata": {
        "trusted": true
      },
      "outputs": [
        {
          "name": "stdout",
          "text": "Maximum Level Sum: 7\n",
          "output_type": "stream"
        }
      ],
      "execution_count": 1
    },
    {
      "cell_type": "code",
      "source": "",
      "metadata": {
        "trusted": true
      },
      "outputs": [],
      "execution_count": null
    }
  ]
}