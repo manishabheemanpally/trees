{
  "metadata": {
    "kernelspec": {
      "name": "python",
      "display_name": "Python (Pyodide)",
      "language": "python"
    },
    "language_info": {
      "codemirror_mode": {
        "name": "python",
        "version": 3
      },
      "file_extension": ".py",
      "mimetype": "text/x-python",
      "name": "python",
      "nbconvert_exporter": "python",
      "pygments_lexer": "ipython3",
      "version": "3.8"
    }
  },
  "nbformat_minor": 4,
  "nbformat": 4,
  "cells": [
    {
      "cell_type": "code",
      "source": "class Node:\n    def __init__(self, value):\n        self.value = value\n        self.left = None\n        self.right = None\n\n\nclass BinaryTree:\n    def __init__(self):\n        self.root = None\n\n    def insert(self, value):\n        if self.root is None:\n            self.root = Node(value)\n        else:\n            self._insert_recursive(self.root, value)\n\n    def _insert_recursive(self, node, value):\n        if value < node.value:\n            if node.left is None:\n                node.left = Node(value)\n            else:\n                self._insert_recursive(node.left, value)\n        else:\n            if node.right is None:\n                node.right = Node(value)\n            else:\n                self._insert_recursive(node.right, value)\n\n    def pre_order_traversal(self):\n        result = []\n        self._pre_order_recursive(self.root, result)\n        return result\n\n    def _pre_order_recursive(self, node, result):\n        if node:\n            result.append(node.value)\n            self._pre_order_recursive(node.left, result)\n            self._pre_order_recursive(node.right, result)\n\n    def post_order_traversal(self):\n        result = []\n        self._post_order_recursive(self.root, result)\n        return result\n\n    def _post_order_recursive(self, node, result):\n        if node:\n            self._post_order_recursive(node.left, result)\n            self._post_order_recursive(node.right, result)\n            result.append(node.value)\n\n    def in_order_traversal(self):\n        result = []\n        self._in_order_recursive(self.root, result)\n        return result\n\n    def _in_order_recursive(self, node, result):\n        if node:\n            self._in_order_recursive(node.left, result)\n            result.append(node.value)\n            self._in_order_recursive(node.right, result)\n\n\ntree = BinaryTree()\n\ntree.insert(5)\ntree.insert(3)\ntree.insert(7)\ntree.insert(2)\ntree.insert(4)\ntree.insert(6)\ntree.insert(8)\n\npre_order = tree.pre_order_traversal()\nprint(\"Pre-order Traversal:\", pre_order)\n\npost_order = tree.post_order_traversal()\nprint(\"Post-order Traversal:\", post_order)\n\nin_order = tree.in_order_traversal()\nprint(\"In-order Traversal:\", in_order)",
      "metadata": {
        "trusted": true
      },
      "outputs": [
        {
          "name": "stdout",
          "text": "Pre-order Traversal: [5, 3, 2, 4, 7, 6, 8]\nPost-order Traversal: [2, 4, 3, 6, 8, 7, 5]\nIn-order Traversal: [2, 3, 4, 5, 6, 7, 8]\n",
          "output_type": "stream"
        }
      ],
      "execution_count": 1
    },
    {
      "cell_type": "code",
      "source": "",
      "metadata": {
        "trusted": true
      },
      "outputs": [],
      "execution_count": null
    }
  ]
}