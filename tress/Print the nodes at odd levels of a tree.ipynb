{
  "metadata": {
    "kernelspec": {
      "name": "python",
      "display_name": "Python (Pyodide)",
      "language": "python"
    },
    "language_info": {
      "codemirror_mode": {
        "name": "python",
        "version": 3
      },
      "file_extension": ".py",
      "mimetype": "text/x-python",
      "name": "python",
      "nbconvert_exporter": "python",
      "pygments_lexer": "ipython3",
      "version": "3.8"
    }
  },
  "nbformat_minor": 4,
  "nbformat": 4,
  "cells": [
    {
      "cell_type": "code",
      "source": "class Node:\n    def __init__(self, value):\n        self.value = value\n        self.left = None\n        self.right = None\n\n\nclass BinaryTree:\n    def __init__(self):\n        self.root = None\n\n    def insert(self, value):\n        if self.root is None:\n            self.root = Node(value)\n        else:\n            self._insert_recursive(self.root, value)\n\n    def _insert_recursive(self, node, value):\n        if value < node.value:\n            if node.left is None:\n                node.left = Node(value)\n            else:\n                self._insert_recursive(node.left, value)\n        else:\n            if node.right is None:\n                node.right = Node(value)\n            else:\n                self._insert_recursive(node.right, value)\n\n    def print_odd_level_nodes(self):\n        self._print_odd_level_nodes_recursive(self.root, 1)\n\n    def _print_odd_level_nodes_recursive(self, node, level):\n        if node is None:\n            return\n\n        if level % 2 == 1:\n            print(node.value)\n\n        self._print_odd_level_nodes_recursive(node.left, level + 1)\n        self._print_odd_level_nodes_recursive(node.right, level + 1)\n\ntree = BinaryTree()\n\ntree.insert(1)\ntree.insert(2)\ntree.insert(3)\ntree.insert(4)\ntree.insert(5)\ntree.insert(6)\ntree.insert(7)\n\nprint(\"Nodes at Odd Levels:\")\ntree.print_odd_level_nodes()",
      "metadata": {
        "trusted": true
      },
      "outputs": [
        {
          "name": "stdout",
          "text": "Nodes at Odd Levels:\n1\n3\n5\n7\n",
          "output_type": "stream"
        }
      ],
      "execution_count": 1
    },
    {
      "cell_type": "code",
      "source": "",
      "metadata": {
        "trusted": true
      },
      "outputs": [],
      "execution_count": null
    }
  ]
}